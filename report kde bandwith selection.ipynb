{
 "cells": [
  {
   "attachments": {},
   "cell_type": "markdown",
   "metadata": {},
   "source": [
    "Scott's and Silverman's rules of thumb are just formulas to apply. They are effective when the distribution of the data is unimodal and close to normal, but perform poorly if not, because they tend to oversmooth (choose too big of a bandwitdth) https://aakinshin.net/posts/kde-bw/ \n",
    "\n",
    "\n",
    "I am checking in the biggest storms, whether we see evidence of unimodality and normal distribution of reports along the latitude/longitude/max hail diameter \n",
    "The kernel used remains epanechnikov throughout as it the choice of the kernel is less important in practice https://bookdown.org/egarpor/NP-UC3M/kde-i-kde.html \n",
    "\n",
    "Focusing on the biggest storm:\n",
    "\n",
    "Using a small bandwith (0.1) to better highlight the shape of the distribution, we see unimodality for max hail diameter, but not for latitude and longitude.\n",
    "for bandwith = 0.513 (selected by silverman), longitude becomes unimodal (oversmoothing), the rest remains the same\n",
    "\n",
    "Focusing on the second biggest:\n",
    "\n",
    "with h=0.1 clear multimodality for max hail diameter and longitude\n",
    "\n",
    "We change the bandwith selection method. \n",
    "\n",
    "We try the Sheather and Jones method, which is a plug-in method.\n",
    "\n",
    "I try running kde on longitude only, and obtain a bandwidth with the SJ method but it looks undersmoothed.\n",
    "\n",
    "The package KDEpy (https://kdepy.readthedocs.io/en/latest/bandwidth.html) is not equipped with the Sheather algorithm for multidimensional sample we I am looking for a package that can do this works.\n",
    "\n",
    "an idea is to run it on R then to come exploit the results in Python (https://bookdown.org/egarpor/NP-UC3M/kde-ii-bwd.html#kde-ii-plug-in suggests an R package)\n",
    "\n",
    "\n",
    "We try the Sheather and Jones method, which is a cross-validation method using https://www.statsmodels.org/stable/generated/statsmodels.nonparametric.kernel_density.KDEMultivariate.html \n",
    "\n",
    "on the biggest storm, cross validation overfits the bandwidth \n",
    "\"neither behaves well for rather small nor for\n",
    "ratherlargesamples\" (Bandwidth Selection in Nonparametric\n",
    "Kernel Estimation)\n",
    "\n",
    "\n",
    "\n",
    "idea is to obtain a bandwidth for each variable (lat,lon,max hail diameter) and then provide kalepy (package that handles well the plotting of kde) with an array of these values \n",
    "\n",
    "\n",
    "\n",
    "\n",
    "\n",
    "\n"
   ]
  },
  {
   "cell_type": "code",
   "execution_count": null,
   "metadata": {
    "vscode": {
     "languageId": "plaintext"
    }
   },
   "outputs": [],
   "source": [
    "#small sample CV, \n",
    "oscv\n",
    "mixed : do validation "
   ]
  }
 ],
 "metadata": {
  "kernelspec": {
   "display_name": "Python 3",
   "language": "python",
   "name": "python3"
  },
  "language_info": {
   "codemirror_mode": {
    "name": "ipython",
    "version": 3
   },
   "file_extension": ".py",
   "mimetype": "text/x-python",
   "name": "python",
   "nbconvert_exporter": "python",
   "pygments_lexer": "ipython3",
   "version": "3.11.0"
  },
  "orig_nbformat": 4,
  "vscode": {
   "interpreter": {
    "hash": "f19d07077eb1cdac0b0b0af8eb107740074d3c18ca2a297d764b781592c2b226"
   }
  }
 },
 "nbformat": 4,
 "nbformat_minor": 2
}
