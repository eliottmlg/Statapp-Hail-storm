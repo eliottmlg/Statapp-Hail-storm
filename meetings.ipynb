{
 "cells": [
  {
   "attachments": {},
   "cell_type": "markdown",
   "metadata": {},
   "source": [
    "Meeting 29.12 "
   ]
  },
  {
   "attachments": {},
   "cell_type": "markdown",
   "metadata": {},
   "source": [
    "- verifier les saut dans le nombre de rapports dans le cluster poublelle en fonction de eps1\n",
    "- eviter from random import *\n",
    "- from random.fonction\n",
    "- bien nommer les variables\n",
    "- paul antoine idee a explorer : avancer \n",
    "- explorer code pour telechargement des donnees\n",
    "- ouvrir les data, xarray documentation sur google, garde logique des dataframe\n",
    "- donnees demographique des villes pour expliquer des vides, entre deux rapports mais qui peuvent appartenir a la meme track\n",
    "- bcp de choses a explorer pour les radars"
   ]
  },
  {
   "attachments": {},
   "cell_type": "markdown",
   "metadata": {},
   "source": [
    "14.01 "
   ]
  },
  {
   "attachments": {},
   "cell_type": "markdown",
   "metadata": {},
   "source": [
    "\n",
    "-faire tourner pour plusieurs pays, annees db scan et trouver le saut dnas le nombre de rapport poubelle moyen le plus grand\n",
    "-donnees demog : si vide entre deux track et ville, alors differente track, si vide entre deux track et pas ville, alors peut etre meme track\n",
    "-"
   ]
  },
  {
   "attachments": {},
   "cell_type": "markdown",
   "metadata": {},
   "source": [
    "research :\n",
    "http://www.feridunozcakir.com/bnmfls/kmeans_dbscan.pdf about hartigan index, as index\n",
    "https://empslocal.ex.ac.uk/people/staff/dbs202/publications/2006/mailier2006.pdf serial clustering \n",
    "https://www.researchgate.net/profile/Colin-Kerouanton/publication/318265522_Detecter_les_pauses_de_randonneurs_par_l%27_usage_de_ST-DBSCAN_analyse_de_sensibilite/links/595f5432aca2728c115d55fd/Detecter-les-pauses-de-randonneurs-par-l-usage-de-ST-DBSCAN-analyse-de-sensibilite.pdf?origin=publication_detail st-dbscan tuning parameters\n"
   ]
  },
  {
   "attachments": {},
   "cell_type": "markdown",
   "metadata": {},
   "source": [
    "meeting 20.01\n",
    "- faire des taux de rapport locaux\n",
    "- superposer les donnees, confirmer que il y a detection radar quand il y a rapport\n",
    "- si il y a personne et radar continus donc une seul track et pas deux\n",
    "- on peut se permettre de mettre param spatial petit\n",
    "- commencer par param spatial petit, ensuite agrandir le param\n",
    "- donnees pop:\n",
    "- etudier la pop par aire, pas seulement par villes \n",
    "- min max de lat et lon \n",
    "- reprojeter en x,y (pyproj) et refaire tourner le modele car equidistant au niveau latlon, pas de courbure\n",
    "- metrique a trouver, pas seulement pour la france : generaliser\n",
    "\n",
    "- rapport: perspectives donnees \n",
    "\n",
    "PREMIERE VERSION RAPPORT POUR LE VENDREDI 3 "
   ]
  },
  {
   "attachments": {},
   "cell_type": "markdown",
   "metadata": {},
   "source": [
    "MEETING 27 02\n",
    "\n",
    "ce quon a fait :\n",
    "- dist cluster rapport\n",
    "- rendre fonction generale\n",
    "\n",
    "- convertir en degres la pente de la regression \n",
    "- utiliser des seuils physiques et intuitifs\n",
    "- prendre plus de carres de densite: 16 au lieu de 4 par exemple\n",
    "\n",
    "fonction qui trouve les cluster a merge sans supposer cluster 1 avant apres cluster 2, prendre tous les clusters et calculer tout \n",
    "\n",
    "- minrapport = 3 au lieu de 2\n",
    "- rectifier condition temporelle de monotonie\n",
    "\n",
    "- au lieu de regarder les carres regardes en terme de distance par example 0.2 degres \n",
    "\n",
    "- refaire sur allemagne l'analyse pour voir incoherences\n"
   ]
  },
  {
   "attachments": {},
   "cell_type": "markdown",
   "metadata": {},
   "source": [
    "23 03 \n",
    "- ajouter la taille de grele \n",
    "- predire la taille de grele avec kde \n",
    "- estimer le risque \n",
    "- donner output a hamza \n",
    "- pa me donne base la plus recente"
   ]
  }
 ],
 "metadata": {
  "kernelspec": {
   "display_name": "Python 3",
   "language": "python",
   "name": "python3"
  },
  "language_info": {
   "codemirror_mode": {
    "name": "ipython",
    "version": 3
   },
   "file_extension": ".py",
   "mimetype": "text/x-python",
   "name": "python",
   "nbconvert_exporter": "python",
   "pygments_lexer": "ipython3",
   "version": "3.11.0"
  },
  "orig_nbformat": 4,
  "vscode": {
   "interpreter": {
    "hash": "f19d07077eb1cdac0b0b0af8eb107740074d3c18ca2a297d764b781592c2b226"
   }
  }
 },
 "nbformat": 4,
 "nbformat_minor": 2
}
