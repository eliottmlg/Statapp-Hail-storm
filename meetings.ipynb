{
 "cells": [
  {
   "attachments": {},
   "cell_type": "markdown",
   "metadata": {},
   "source": [
    "Meeting 29.12 "
   ]
  },
  {
   "attachments": {},
   "cell_type": "markdown",
   "metadata": {},
   "source": [
    "- verifier les saut dans le nombre de rapports dans le cluster poublelle en fonction de eps1\n",
    "- eviter from random import *\n",
    "- from random.fonction\n",
    "- bien nommer les variables\n",
    "- paul antoine idee a explorer : avancer \n",
    "- explorer code pour telechargement des donnees\n",
    "- ouvrir les data, xarray documentation sur google, garde logique des dataframe\n",
    "- donnees demographique des villes pour expliquer des vides, entre deux rapports mais qui peuvent appartenir a la meme track\n",
    "- bcp de choses a explorer pour les radars"
   ]
  }
 ],
 "metadata": {
  "kernelspec": {
   "display_name": "Python 3",
   "language": "python",
   "name": "python3"
  },
  "language_info": {
   "name": "python",
   "version": "3.11.0 (main, Oct 24 2022, 18:26:48) [MSC v.1933 64 bit (AMD64)]"
  },
  "orig_nbformat": 4,
  "vscode": {
   "interpreter": {
    "hash": "f19d07077eb1cdac0b0b0af8eb107740074d3c18ca2a297d764b781592c2b226"
   }
  }
 },
 "nbformat": 4,
 "nbformat_minor": 2
}
