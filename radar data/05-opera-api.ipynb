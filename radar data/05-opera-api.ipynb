{
    "cells": [
        {
            "cell_type": "markdown",
            "id": "f3fc852f-8f02-4394-abc9-27c606f1d37d",
            "metadata": {},
            "source": [
                "# **05-opera-api.ipynb**"
            ]
        },
        {
            "cell_type": "code",
            "execution_count": null,
            "id": "430913b9",
            "metadata": {},
            "outputs": [],
            "source": [
                "%load_ext autoreload\n",
                "%autoreload 2"
            ]
        },
        {
            "cell_type": "code",
            "execution_count": null,
            "id": "20ddb5e2",
            "metadata": {},
            "outputs": [],
            "source": [
                "import cartopy.crs as ccrs\n",
                "import matplotlib.pyplot as plt\n",
                "import pandas as pd\n",
                "import xarray as xr\n",
                "from cartopy.feature import BORDERS, COASTLINE"
            ]
        },
        {
            "cell_type": "code",
            "execution_count": null,
            "id": "a17ebe4c",
            "metadata": {},
            "outputs": [],
            "source": [
                "from smash.processing.hailtrack import apply_advection_correction\n",
                "from smash.service.download.opera import download_files\n",
                "from smash.service.read.composite import get_opera_projection_cfg, open_opera_dataset\n",
                "from smash.tools.common_path import SOURCE_DATA_PATH"
            ]
        },
        {
            "cell_type": "markdown",
            "id": "eb70c2af",
            "metadata": {},
            "source": [
                "## Download"
            ]
        },
        {
            "cell_type": "code",
            "execution_count": null,
            "id": "068bbd42",
            "metadata": {},
            "outputs": [],
            "source": [
                "VERBOSE = True"
            ]
        },
        {
            "cell_type": "code",
            "execution_count": null,
            "id": "3823b027",
            "metadata": {},
            "outputs": [],
            "source": [
                "time_bounds = {\n",
                "    \"start\": \"2021-07-14\",\n",
                "    \"end\": \"2021-07-14\"\n",
                "}\n",
                "product = \"REFLECTIVITY\"\n",
                "local_path = SOURCE_DATA_PATH / \"opera\"\n",
                "local_path.mkdir(parents=True, exist_ok=True)"
            ]
        },
        {
            "cell_type": "code",
            "execution_count": null,
            "id": "1d087003",
            "metadata": {},
            "outputs": [],
            "source": [
                "status = download_files(time_bounds, product, local_path)"
            ]
        },
        {
            "cell_type": "markdown",
            "id": "13092e30",
            "metadata": {},
            "source": [
                "## Get files"
            ]
        },
        {
            "cell_type": "code",
            "execution_count": null,
            "id": "004559cf",
            "metadata": {},
            "outputs": [],
            "source": [
                "files = status[\"downloaded\"][:20]"
            ]
        },
        {
            "cell_type": "markdown",
            "id": "f2b0f1f9",
            "metadata": {},
            "source": [
                "## Read"
            ]
        },
        {
            "cell_type": "code",
            "execution_count": null,
            "id": "e3060528",
            "metadata": {},
            "outputs": [],
            "source": [
                "projection_cfg = get_opera_projection_cfg()"
            ]
        },
        {
            "cell_type": "code",
            "execution_count": null,
            "id": "d36f45f8",
            "metadata": {},
            "outputs": [],
            "source": [
                "ds = xr.concat(\n",
                "    [open_opera_dataset(file, projection_cfg) for file in files],\n",
                "    dim=\"time\"\n",
                ")"
            ]
        },
        {
            "cell_type": "markdown",
            "id": "f9503de8",
            "metadata": {},
            "source": [
                "## Plot"
            ]
        },
        {
            "cell_type": "code",
            "execution_count": null,
            "id": "d025a664",
            "metadata": {},
            "outputs": [],
            "source": [
                "if VERBOSE:\n",
                "    ax = plt.axes(projection=ccrs.PlateCarree())\n",
                "    ds.sel(time=\"2021-07-14 00:15\").data.plot(\n",
                "        x=\"longitude\",\n",
                "        y=\"latitude\",\n",
                "        ax=ax,\n",
                "        vmin=0,\n",
                "        vmax=70,\n",
                "        cmap=\"gist_ncar\",\n",
                "        cbar_kwargs={\"label\": \"Reflectivity (dBZ)\"}\n",
                "    )\n",
                "    ax.add_feature(COASTLINE)\n",
                "    ax.add_feature(BORDERS)\n",
                "    gls = ax.gridlines(draw_labels=True, alpha=0.5, linestyle=\"--\")\n",
                "    gls.top_labels, gls.right_labels = False, False\n",
                "    ax.set(xlim=[0, 10], ylim=[45, 53])\n",
                "    ax.set_aspect(\"auto\", adjustable=None)"
            ]
        },
        {
            "cell_type": "markdown",
            "id": "c5262cc8",
            "metadata": {},
            "source": [
                "## Advection Correction"
            ]
        },
        {
            "cell_type": "markdown",
            "id": "85bfdb0a",
            "metadata": {},
            "source": [
                "- compute"
            ]
        },
        {
            "cell_type": "code",
            "execution_count": null,
            "id": "48bf0f19",
            "metadata": {},
            "outputs": [],
            "source": [
                "coordinates_box = {\n",
                "    \"latitude\": [49, 53],\n",
                "    \"longitude\": [5, 9.5]\n",
                "}"
            ]
        },
        {
            "cell_type": "code",
            "execution_count": null,
            "id": "d7ced004",
            "metadata": {},
            "outputs": [],
            "source": [
                "ds_smaller = ds.where(\n",
                "    (ds.latitude >= min(coordinates_box[\"latitude\"])) &\n",
                "    (ds.latitude <= max(coordinates_box[\"latitude\"])) &\n",
                "    (ds.longitude >= min(coordinates_box[\"longitude\"])) &\n",
                "    (ds.longitude <= max(coordinates_box[\"longitude\"])),\n",
                "    drop=True\n",
                ").fillna(0)"
            ]
        },
        {
            "cell_type": "code",
            "execution_count": null,
            "id": "2d20310a",
            "metadata": {},
            "outputs": [],
            "source": [
                "ds_smaller_advected = apply_advection_correction(\n",
                "    ds_smaller,\n",
                "    interpolation_timestep=pd.Timedelta(\"5min\")\n",
                ")"
            ]
        },
        {
            "cell_type": "markdown",
            "id": "91eb38ae",
            "metadata": {},
            "source": [
                "- plot"
            ]
        },
        {
            "cell_type": "code",
            "execution_count": null,
            "id": "f60c5de7",
            "metadata": {},
            "outputs": [],
            "source": [
                "if VERBOSE:\n",
                "    fig, axs = plt.subplots(\n",
                "        1, 2, figsize=[14, 5], subplot_kw={'projection': ccrs.PlateCarree()}\n",
                "    )\n",
                "    ds_smaller.data.max(\"time\").plot(\n",
                "        x=\"longitude\", y=\"latitude\", ax=axs[0], vmin=0, vmax=70, cmap=\"gist_ncar\",\n",
                "    )\n",
                "    axs[0].set(title=\"Raw Cumulative Reflectivity (T=15min)\")\n",
                "    axs[0].add_feature(COASTLINE)\n",
                "    axs[0].add_feature(BORDERS)\n",
                "    gls0 = axs[0].gridlines(draw_labels=True, alpha=0.5, linestyle=\"--\")\n",
                "    gls0.top_labels, gls0.right_labels = False, False\n",
                "    \n",
                "    ds_smaller_advected.data.plot(\n",
                "        x=\"longitude\", y=\"latitude\", ax=axs[1], vmin=0, vmax=70, cmap=\"gist_ncar\",\n",
                "    )\n",
                "    axs[1].set(title=\"Advected Cumulative Reflectivity (t=5min)\")\n",
                "    axs[1].add_feature(COASTLINE)\n",
                "    axs[1].add_feature(BORDERS)\n",
                "    gls1 = axs[1].gridlines(draw_labels=True, alpha=0.5, linestyle=\"--\")\n",
                "    gls1.top_labels, gls1.right_labels = False, False\n"
            ]
        },
        {
            "cell_type": "markdown",
            "id": "657f1ca0",
            "metadata": {},
            "source": [
                "---\n",
                "## End of the notebook\n",
                "---"
            ]
        }
    ],
    "metadata": {
        "kernelspec": {
            "display_name": "base",
            "language": "python",
            "name": "python3"
        },
        "language_info": {
            "codemirror_mode": {
                "name": "ipython",
                "version": 3
            },
            "file_extension": ".py",
            "mimetype": "text/x-python",
            "name": "python",
            "nbconvert_exporter": "python",
            "pygments_lexer": "ipython3",
            "version": "3.9.13 (main, Aug 25 2022, 23:51:50) [MSC v.1916 64 bit (AMD64)]"
        },
        "vscode": {
            "interpreter": {
                "hash": "2cddf590ff5b99e3f4c202285f543f9c3c32ce3edb6bdf61b4c9c7d1d50f247b"
            }
        }
    },
    "nbformat": 4,
    "nbformat_minor": 5
}
